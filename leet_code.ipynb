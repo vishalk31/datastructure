{
 "cells": [
  {
   "cell_type": "markdown",
   "id": "46a5c9de",
   "metadata": {},
   "source": [
    "Problem: Valid Anagram\n",
    "Difficulty: Easy\n",
    "Tags: Hash Table, String, Sorting\n",
    "Companies: Amazon, Facebook, Google, Microsoft\n",
    "LeetCode #242\n",
    "Problem Statement:\n",
    "Given two strings s and t, return true if t is an anagram of s, and false otherwise.\n",
    "An anagram is a word or phrase formed by rearranging the letters of a different word or phrase, typically using all the original letters exactly once."
   ]
  },
  {
   "cell_type": "code",
   "execution_count": 23,
   "id": "18ec5d2a",
   "metadata": {},
   "outputs": [],
   "source": [
    "def is_anagram(s, t):\n",
    "    \"\"\"\n",
    "    Determine if two strings are anagrams.\n",
    "    \n",
    "    Args:\n",
    "        s: str - first string\n",
    "        t: str - second string\n",
    "        \n",
    "    Returns:\n",
    "        bool - True if t is anagram of s, False otherwise\n",
    "    \n",
    "    Time Complexity: O(n)\n",
    "    Space Complexity: O(1) - at most 26 characters\n",
    "    \"\"\"\n",
    "    # Your solution here\n",
    "    sentence_one_count = {}\n",
    "    sentence_two_count = {}\n",
    "    for alphabets in s:\n",
    "        sentence_one_count[alphabets] = sentence_one_count.get(alphabets,0)+1\n",
    "\n",
    "    for alphabets in t:\n",
    "        sentence_two_count[alphabets] = sentence_two_count.get(alphabets,0)+1\n",
    "    \n",
    "    for alphabets in s+t:\n",
    "        value_1 =  sentence_one_count.get(alphabets,0)\n",
    "        value_2 = sentence_two_count.get(alphabets,0)\n",
    "        if value_1 != value_2:\n",
    "            return(False)\n",
    "    return(True)\n"
   ]
  },
  {
   "cell_type": "code",
   "execution_count": 24,
   "id": "dfe66eaf",
   "metadata": {},
   "outputs": [
    {
     "name": "stdout",
     "output_type": "stream",
     "text": [
      "✅ Input: s='anagram', t='nagaram' | Output: True | Expected: True\n",
      "✅ Input: s='rat', t='car' | Output: False | Expected: False\n",
      "✅ Input: s='listen', t='silent' | Output: True | Expected: True\n",
      "✅ Input: s='a', t='ab' | Output: False | Expected: False\n",
      "✅ Input: s='', t='' | Output: True | Expected: True\n",
      "✅ Input: s='abc', t='bca' | Output: True | Expected: True\n",
      "✅ Input: s='aab', t='abb' | Output: False | Expected: False\n"
     ]
    }
   ],
   "source": [
    "if __name__ == \"__main__\":\n",
    "    test_cases = [\n",
    "        (\"anagram\", \"nagaram\", True),\n",
    "        (\"rat\", \"car\", False),\n",
    "        (\"listen\", \"silent\", True),\n",
    "        (\"a\", \"ab\", False),\n",
    "        (\"\", \"\", True),\n",
    "        (\"abc\", \"bca\", True),\n",
    "        (\"aab\", \"abb\", False)\n",
    "    ]\n",
    "    \n",
    "    for s, t, expected in test_cases:\n",
    "        result = is_anagram(s, t)\n",
    "        status = \"✅\" if result == expected else \"❌\"\n",
    "        print(f\"{status} Input: s='{s}', t='{t}' | Output: {result} | Expected: {expected}\")"
   ]
  },
  {
   "cell_type": "markdown",
   "id": "36008124",
   "metadata": {},
   "source": [
    "\n",
    "Difficulty: Easy\n",
    "Tags: String, Stack\n",
    "Companies: Amazon, Microsoft, Google, Facebook, Apple\n",
    "LeetCode #20\n",
    "Problem Statement:\n",
    "Given a string s containing just the characters '(', ')', '[', ']', '{' and '}', determine if the input string is valid.\n",
    "An input string is valid if:\n",
    "\n",
    "Open brackets must be closed by the same type of brackets\n",
    "Open brackets must be closed in the correct order\n",
    "Every close bracket has a corresponding open bracket of the same type"
   ]
  },
  {
   "cell_type": "code",
   "execution_count": 54,
   "id": "2bbc3adb",
   "metadata": {},
   "outputs": [],
   "source": [
    "def is_valid_parentheses(s):\n",
    "    \"\"\"\n",
    "    Determine if the parentheses in the string are valid.\n",
    "    \n",
    "    Args:\n",
    "        s: str - string containing only parentheses characters\n",
    "        \n",
    "    Returns:\n",
    "        bool - True if valid, False otherwise\n",
    "    \n",
    "    Time Complexity: O(n)\n",
    "    Space Complexity: O(n)\n",
    "    \"\"\"\n",
    "    # Your solution here\n",
    "    if len(s) ==0:\n",
    "        return True\n",
    "    storage_box = []\n",
    "    paranthesis = {\n",
    "        \"}\":\"{\",\n",
    "        \")\":\"(\",\n",
    "        \"]\":\"[\"\n",
    "    }\n",
    "\n",
    "    for values in s:\n",
    "        if values in \"{([\":\n",
    "            storage_box.append(values)\n",
    "        else:\n",
    "            if paranthesis[values] in storage_box:\n",
    "                if storage_box[-1]!= paranthesis[values]:\n",
    "                    return(False)\n",
    "                else:\n",
    "                    storage_box.pop()\n",
    "\n",
    "            else:\n",
    "                return(False)\n",
    "            \n",
    "    #print(\"mystorage\")\n",
    "    if len(storage_box)==0:\n",
    "        return True\n",
    "    else:\n",
    "        return False\n",
    "    #print(storage_box)"
   ]
  },
  {
   "cell_type": "code",
   "execution_count": 55,
   "id": "1fa18f84",
   "metadata": {},
   "outputs": [
    {
     "name": "stdout",
     "output_type": "stream",
     "text": [
      "✅ Input: '()' | Output: True | Expected: True\n",
      "✅ Input: '()[]{}' | Output: True | Expected: True\n",
      "✅ Input: '{[]}' | Output: True | Expected: True\n",
      "✅ Input: '(())' | Output: True | Expected: True\n"
     ]
    }
   ],
   "source": [
    "if __name__ == \"__main__\":\n",
    "    test_cases = [\n",
    "        (\"()\", True),\n",
    "        (\"()[]{}\", True),\n",
    "        (\"{[]}\", True),\n",
    "        (\"(())\", True)\n",
    "    ]\n",
    "    \n",
    "    for s, expected in test_cases:\n",
    "        result = is_valid_parentheses(s)\n",
    "        status = \"✅\" if result == expected else \"❌\"\n",
    "        print(f\"{status} Input: '{s}' | Output: {result} | Expected: {expected}\")"
   ]
  },
  {
   "cell_type": "code",
   "execution_count": 57,
   "id": "7d075e75",
   "metadata": {},
   "outputs": [
    {
     "name": "stdout",
     "output_type": "stream",
     "text": [
      "✅ Input: '()' | Output: True | Expected: True\n",
      "✅ Input: '()[]{}' | Output: True | Expected: True\n",
      "✅ Input: '(]' | Output: False | Expected: False\n",
      "✅ Input: '([)]' | Output: False | Expected: False\n",
      "✅ Input: '{[]}' | Output: True | Expected: True\n",
      "✅ Input: '' | Output: True | Expected: True\n",
      "✅ Input: '(' | Output: False | Expected: False\n",
      "✅ Input: ')' | Output: False | Expected: False\n",
      "✅ Input: '((' | Output: False | Expected: False\n",
      "✅ Input: '))' | Output: False | Expected: False\n",
      "✅ Input: '(())' | Output: True | Expected: True\n",
      "✅ Input: '([)]' | Output: False | Expected: False\n",
      "✅ Input: '(((' | Output: False | Expected: False\n",
      "✅ Input: ')(' | Output: False | Expected: False\n"
     ]
    }
   ],
   "source": [
    "if __name__ == \"__main__\":\n",
    "    test_cases = [\n",
    "        (\"()\", True),\n",
    "        (\"()[]{}\", True),\n",
    "        (\"(]\", False),\n",
    "        (\"([)]\", False),\n",
    "        (\"{[]}\", True),\n",
    "        (\"\", True),\n",
    "        (\"(\", False),\n",
    "        (\")\", False),\n",
    "        (\"((\", False),\n",
    "        (\"))\", False),\n",
    "        (\"(())\", True),\n",
    "        (\"([)]\",False),\n",
    "        (\"(((\",False),\n",
    "        (\")(\",False)\n",
    "    ]\n",
    "    \n",
    "    for s, expected in test_cases:\n",
    "        result = is_valid_parentheses(s)\n",
    "        status = \"✅\" if result == expected else \"❌\"\n",
    "        print(f\"{status} Input: '{s}' | Output: {result} | Expected: {expected}\")"
   ]
  },
  {
   "cell_type": "markdown",
   "id": "03e9ee36",
   "metadata": {},
   "source": [
    "LeetCode Problem Format\n",
    "Problem: Two Sum II - Input Array Is Sorted\n",
    "Difficulty: Medium\n",
    "Tags: Array, Two Pointers, Binary Search\n",
    "Companies: Amazon, Facebook, Microsoft, Apple\n",
    "LeetCode #167\n",
    "Problem Statement:\n",
    "Given a 1-indexed array of integers numbers that is already sorted in non-decreasing order, find two numbers such that they add up to a specific target number. Let these two numbers be numbers[index1] and numbers[index2] where 1 <= index1 < index2 <= numbers.length.\n",
    "Return the indices of the two numbers, index1 and index2, added by one as an integer array [index1, index2] of length 2.\n",
    "The tests are generated such that there is exactly one solution. You may not use the same element twice."
   ]
  },
  {
   "cell_type": "code",
   "execution_count": 70,
   "id": "255f6ba4",
   "metadata": {},
   "outputs": [],
   "source": [
    "def two_sum_ii(numbers, target):\n",
    "    \"\"\"\n",
    "    Find two numbers in sorted array that add up to target.\n",
    "    \n",
    "    Args:\n",
    "        numbers: List[int] - 1-indexed sorted array  \n",
    "        target: int - target sum\n",
    "        \n",
    "    Returns:\n",
    "        List[int] - 1-indexed positions [index1, index2]\n",
    "    \n",
    "    Time Complexity: O(n)\n",
    "    Space Complexity: O(1)\n",
    "    \"\"\"\n",
    "    # Your solution here\n",
    "    index_val= {}\n",
    "    for index,values in enumerate(numbers):\n",
    "        output = target-values \n",
    "        if output not in index_val.keys():\n",
    "            index_val[values] = index+1\n",
    "        else:\n",
    "            return([index_val.get(output),index+1])\n",
    "\n",
    "    return -1"
   ]
  },
  {
   "cell_type": "markdown",
   "id": "c0c468ae",
   "metadata": {},
   "source": [
    "## Solution 2"
   ]
  },
  {
   "cell_type": "code",
   "execution_count": 89,
   "id": "be86b857",
   "metadata": {},
   "outputs": [],
   "source": [
    "def two_sum_ii(numbers, target):\n",
    "    \"\"\"\n",
    "    Find two numbers in sorted array that add up to target.\n",
    "    \n",
    "    Args:\n",
    "        numbers: List[int] - 1-indexed sorted array  \n",
    "        target: int - target sum\n",
    "        \n",
    "    Returns:\n",
    "        List[int] - 1-indexed positions [index1, index2]\n",
    "    \n",
    "    Time Complexity: O(n)\n",
    "    Space Complexity: O(1)\n",
    "    \"\"\"\n",
    "    # Your solution here\n",
    "    start =0\n",
    "    end = len(numbers)-1\n",
    "    current_sum = numbers[start] + numbers[end]\n",
    "    while start < end:\n",
    "\n",
    "        if current_sum == target:\n",
    "            # Found it! What do you return?\n",
    "            return([start+1,end+1])\n",
    "            break\n",
    "        elif current_sum < target:\n",
    "            start +=1\n",
    "            current_sum = numbers[start] + numbers[end]\n",
    "\n",
    "            # Sum is too small, need to make it bigger\n",
    "            # Which pointer should you move? start or end?\n",
    "        elif current_sum > target:\n",
    "            end =end-1\n",
    "            current_sum = numbers[start] + numbers[end]\n",
    "            # Sum is too big, need to make it smaller  \n",
    "            # Which pointer should you move? start or end?"
   ]
  },
  {
   "cell_type": "code",
   "execution_count": null,
   "id": "b46590d7",
   "metadata": {},
   "outputs": [],
   "source": []
  },
  {
   "cell_type": "code",
   "execution_count": 90,
   "id": "9e607445",
   "metadata": {},
   "outputs": [
    {
     "name": "stdout",
     "output_type": "stream",
     "text": [
      "✅ Input: numbers=[2, 7, 11, 15], target=9 | Output: [1, 2] | Expected: [1, 2]\n",
      "✅ Input: numbers=[2, 3, 4], target=6 | Output: [1, 3] | Expected: [1, 3]\n",
      "✅ Input: numbers=[-1, 0], target=-1 | Output: [1, 2] | Expected: [1, 2]\n",
      "✅ Input: numbers=[1, 2, 3, 4, 4, 9, 56, 90], target=8 | Output: [4, 5] | Expected: [4, 5]\n",
      "✅ Input: numbers=[5, 25, 75], target=100 | Output: [2, 3] | Expected: [2, 3]\n"
     ]
    }
   ],
   "source": [
    "if __name__ == \"__main__\":\n",
    "    test_cases = [\n",
    "        ([2,7,11,15], 9, [1,2]),\n",
    "        ([2,3,4], 6, [1,3]),\n",
    "        ([-1,0], -1, [1,2]),\n",
    "        ([1,2,3,4,4,9,56,90], 8, [4,5]),\n",
    "        ([5,25,75], 100, [2,3])\n",
    "    ]\n",
    "    \n",
    "    for numbers, target, expected in test_cases:\n",
    "        result = two_sum_ii(numbers, target)\n",
    "        status = \"✅\" if result == expected else \"❌\"\n",
    "        print(f\"{status} Input: numbers={numbers}, target={target} | Output: {result} | Expected: {expected}\")"
   ]
  },
  {
   "cell_type": "code",
   "execution_count": 80,
   "id": "f72d4881",
   "metadata": {},
   "outputs": [
    {
     "data": {
      "text/plain": [
       "15"
      ]
     },
     "execution_count": 80,
     "metadata": {},
     "output_type": "execute_result"
    }
   ],
   "source": [
    "numbers=[2, 7, 11, 15] \n",
    "numbers[3]"
   ]
  },
  {
   "cell_type": "code",
   "execution_count": null,
   "id": "6cce81d3",
   "metadata": {},
   "outputs": [],
   "source": []
  }
 ],
 "metadata": {
  "kernelspec": {
   "display_name": "Python 3",
   "language": "python",
   "name": "python3"
  },
  "language_info": {
   "codemirror_mode": {
    "name": "ipython",
    "version": 3
   },
   "file_extension": ".py",
   "mimetype": "text/x-python",
   "name": "python",
   "nbconvert_exporter": "python",
   "pygments_lexer": "ipython3",
   "version": "3.12.1"
  }
 },
 "nbformat": 4,
 "nbformat_minor": 5
}
