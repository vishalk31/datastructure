{
 "cells": [
  {
   "cell_type": "markdown",
   "id": "46a5c9de",
   "metadata": {},
   "source": [
    "Problem: Valid Anagram\n",
    "Difficulty: Easy\n",
    "Tags: Hash Table, String, Sorting\n",
    "Companies: Amazon, Facebook, Google, Microsoft\n",
    "LeetCode #242\n",
    "Problem Statement:\n",
    "Given two strings s and t, return true if t is an anagram of s, and false otherwise.\n",
    "An anagram is a word or phrase formed by rearranging the letters of a different word or phrase, typically using all the original letters exactly once."
   ]
  },
  {
   "cell_type": "code",
   "execution_count": 23,
   "id": "18ec5d2a",
   "metadata": {},
   "outputs": [],
   "source": [
    "def is_anagram(s, t):\n",
    "    \"\"\"\n",
    "    Determine if two strings are anagrams.\n",
    "    \n",
    "    Args:\n",
    "        s: str - first string\n",
    "        t: str - second string\n",
    "        \n",
    "    Returns:\n",
    "        bool - True if t is anagram of s, False otherwise\n",
    "    \n",
    "    Time Complexity: O(n)\n",
    "    Space Complexity: O(1) - at most 26 characters\n",
    "    \"\"\"\n",
    "    # Your solution here\n",
    "    sentence_one_count = {}\n",
    "    sentence_two_count = {}\n",
    "    for alphabets in s:\n",
    "        sentence_one_count[alphabets] = sentence_one_count.get(alphabets,0)+1\n",
    "\n",
    "    for alphabets in t:\n",
    "        sentence_two_count[alphabets] = sentence_two_count.get(alphabets,0)+1\n",
    "    \n",
    "    for alphabets in s+t:\n",
    "        value_1 =  sentence_one_count.get(alphabets,0)\n",
    "        value_2 = sentence_two_count.get(alphabets,0)\n",
    "        if value_1 != value_2:\n",
    "            return(False)\n",
    "    return(True)\n"
   ]
  },
  {
   "cell_type": "code",
   "execution_count": 24,
   "id": "dfe66eaf",
   "metadata": {},
   "outputs": [
    {
     "name": "stdout",
     "output_type": "stream",
     "text": [
      "✅ Input: s='anagram', t='nagaram' | Output: True | Expected: True\n",
      "✅ Input: s='rat', t='car' | Output: False | Expected: False\n",
      "✅ Input: s='listen', t='silent' | Output: True | Expected: True\n",
      "✅ Input: s='a', t='ab' | Output: False | Expected: False\n",
      "✅ Input: s='', t='' | Output: True | Expected: True\n",
      "✅ Input: s='abc', t='bca' | Output: True | Expected: True\n",
      "✅ Input: s='aab', t='abb' | Output: False | Expected: False\n"
     ]
    }
   ],
   "source": [
    "if __name__ == \"__main__\":\n",
    "    test_cases = [\n",
    "        (\"anagram\", \"nagaram\", True),\n",
    "        (\"rat\", \"car\", False),\n",
    "        (\"listen\", \"silent\", True),\n",
    "        (\"a\", \"ab\", False),\n",
    "        (\"\", \"\", True),\n",
    "        (\"abc\", \"bca\", True),\n",
    "        (\"aab\", \"abb\", False)\n",
    "    ]\n",
    "    \n",
    "    for s, t, expected in test_cases:\n",
    "        result = is_anagram(s, t)\n",
    "        status = \"✅\" if result == expected else \"❌\"\n",
    "        print(f\"{status} Input: s='{s}', t='{t}' | Output: {result} | Expected: {expected}\")"
   ]
  },
  {
   "cell_type": "markdown",
   "id": "36008124",
   "metadata": {},
   "source": [
    "\n",
    "Difficulty: Easy\n",
    "Tags: String, Stack\n",
    "Companies: Amazon, Microsoft, Google, Facebook, Apple\n",
    "LeetCode #20\n",
    "Problem Statement:\n",
    "Given a string s containing just the characters '(', ')', '[', ']', '{' and '}', determine if the input string is valid.\n",
    "An input string is valid if:\n",
    "\n",
    "Open brackets must be closed by the same type of brackets\n",
    "Open brackets must be closed in the correct order\n",
    "Every close bracket has a corresponding open bracket of the same type"
   ]
  },
  {
   "cell_type": "code",
   "execution_count": 25,
   "id": "2bbc3adb",
   "metadata": {},
   "outputs": [],
   "source": [
    "def is_valid_parentheses(s):\n",
    "    \"\"\"\n",
    "    Determine if the parentheses in the string are valid.\n",
    "    \n",
    "    Args:\n",
    "        s: str - string containing only parentheses characters\n",
    "        \n",
    "    Returns:\n",
    "        bool - True if valid, False otherwise\n",
    "    \n",
    "    Time Complexity: O(n)\n",
    "    Space Complexity: O(n)\n",
    "    \"\"\"\n",
    "    # Your solution here\n",
    "    pass"
   ]
  },
  {
   "cell_type": "code",
   "execution_count": 26,
   "id": "7d075e75",
   "metadata": {},
   "outputs": [
    {
     "name": "stdout",
     "output_type": "stream",
     "text": [
      "❌ Input: '()' | Output: None | Expected: True\n",
      "❌ Input: '()[]{}' | Output: None | Expected: True\n",
      "❌ Input: '(]' | Output: None | Expected: False\n",
      "❌ Input: '([)]' | Output: None | Expected: False\n",
      "❌ Input: '{[]}' | Output: None | Expected: True\n",
      "❌ Input: '' | Output: None | Expected: True\n",
      "❌ Input: '(' | Output: None | Expected: False\n",
      "❌ Input: ')' | Output: None | Expected: False\n",
      "❌ Input: '((' | Output: None | Expected: False\n",
      "❌ Input: '))' | Output: None | Expected: False\n",
      "❌ Input: '(())' | Output: None | Expected: True\n"
     ]
    }
   ],
   "source": [
    "if __name__ == \"__main__\":\n",
    "    test_cases = [\n",
    "        (\"()\", True),\n",
    "        (\"()[]{}\", True),\n",
    "        (\"(]\", False),\n",
    "        (\"([)]\", False),\n",
    "        (\"{[]}\", True),\n",
    "        (\"\", True),\n",
    "        (\"(\", False),\n",
    "        (\")\", False),\n",
    "        (\"((\", False),\n",
    "        (\"))\", False),\n",
    "        (\"(())\", True)\n",
    "    ]\n",
    "    \n",
    "    for s, expected in test_cases:\n",
    "        result = is_valid_parentheses(s)\n",
    "        status = \"✅\" if result == expected else \"❌\"\n",
    "        print(f\"{status} Input: '{s}' | Output: {result} | Expected: {expected}\")"
   ]
  },
  {
   "cell_type": "code",
   "execution_count": null,
   "id": "03e9ee36",
   "metadata": {},
   "outputs": [],
   "source": []
  }
 ],
 "metadata": {
  "kernelspec": {
   "display_name": "Python 3",
   "language": "python",
   "name": "python3"
  },
  "language_info": {
   "codemirror_mode": {
    "name": "ipython",
    "version": 3
   },
   "file_extension": ".py",
   "mimetype": "text/x-python",
   "name": "python",
   "nbconvert_exporter": "python",
   "pygments_lexer": "ipython3",
   "version": "3.12.1"
  }
 },
 "nbformat": 4,
 "nbformat_minor": 5
}
