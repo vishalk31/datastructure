{
 "cells": [
  {
   "cell_type": "markdown",
   "id": "e8e4a9ba",
   "metadata": {},
   "source": [
    "Let’s Level Up: LeetCode-Style Practice—Arrays & Strings\n",
    "Challenge 1: Sum of Array\n",
    "Prompt:\n",
    "Given an array of numbers, return the sum of all the numbers.\n",
    "\n",
    "Example:\n",
    "[1, 10]\n",
    "\n",
    "Guidance:\n",
    "\n",
    "Loop through each element and keep a running total.\n",
    "\n",
    "Try to write this as a function."
   ]
  },
  {
   "cell_type": "code",
   "execution_count": null,
   "id": "31c0459e",
   "metadata": {},
   "outputs": [
    {
     "name": "stdout",
     "output_type": "stream",
     "text": [
      "15\n",
      "15\n"
     ]
    }
   ],
   "source": [
    "## solution 1\n",
    "a = [1,2,3,4,5] \n",
    "sum_total = 0\n",
    "for numbers in a: \n",
    "    sum_total += numbers\n",
    "print(sum_total)\n",
    "\n",
    "## solution 2\n",
    "sum_total = sum(a)\n",
    "print(sum_total)\n"
   ]
  },
  {
   "cell_type": "markdown",
   "id": "1235349f",
   "metadata": {},
   "source": []
  },
  {
   "cell_type": "code",
   "execution_count": null,
   "id": "9ceda502",
   "metadata": {},
   "outputs": [],
   "source": []
  },
  {
   "cell_type": "markdown",
   "id": "e593abae",
   "metadata": {},
   "source": [
    "Challenge 2: Reverse Words in a String\n",
    "Prompt:\n",
    "Given \"hello world\", return \"world hello\"\n",
    "(reverse the order of the words, not the letters!)\n",
    "\n",
    "Guidance:\n",
    "\n",
    "Break the sentence into words.\n",
    "\n",
    "Put the words in reverse order.\n",
    "\n",
    "Put them back together as a string."
   ]
  },
  {
   "cell_type": "code",
   "execution_count": null,
   "id": "a76e4726",
   "metadata": {},
   "outputs": [
    {
     "name": "stdout",
     "output_type": "stream",
     "text": [
      "world hello\n",
      "world hello  \n"
     ]
    }
   ],
   "source": [
    "input_data = \" \".join(\"hello world\".split(\" \")[::-1])\n",
    "print(input_data)\n",
    "\n",
    "\n",
    "#solution 2\n",
    "input_data = \"hello world\"\n",
    "reversed_word= \" \"\n",
    "for data in input_data.split(\" \"):\n",
    "    reversed_word = data+\" \"+reversed_word\n",
    "print(reversed_word)\n"
   ]
  },
  {
   "cell_type": "markdown",
   "id": "a025943d",
   "metadata": {},
   "source": [
    "Challenge 3: Find the Largest Number\n",
    "Prompt:\n",
    "Given `[4, 2, 9, 7,] number is largest.\n",
    "\n",
    "Guidance:\n",
    "\n",
    "Imagine you’re a judge at a contest, looking for the biggest number.\n",
    "\n",
    "Compare each one, keep track of the winner."
   ]
  },
  {
   "cell_type": "code",
   "execution_count": 13,
   "id": "73e5ac44",
   "metadata": {},
   "outputs": [
    {
     "name": "stdout",
     "output_type": "stream",
     "text": [
      "8\n",
      "8\n"
     ]
    }
   ],
   "source": [
    "input_data = [1,2,3,4,5,6,8,7]\n",
    "print(max(input_data))\n",
    "\n",
    "##solution 2\n",
    "max_value =0 \n",
    "for data in input_data:\n",
    "    if data> max_value:\n",
    "        max_value= data\n",
    "print(max_value)\n",
    "\n"
   ]
  },
  {
   "cell_type": "markdown",
   "id": "2153885a",
   "metadata": {},
   "source": [
    " Next Level Practice\n",
    "Before we move on, let’s add a little twist, inspired by real interviews:\n",
    "\n",
    "Array Average:\n",
    "Write a function that finds the average (mean) of all values in a list. (Hint: combine sum and length.)\n",
    "\n",
    "Remove Duplicates in Array:\n",
    "Given , return .\n",
    "\n",
    "Tips:\n",
    "\n",
    "Try WITHOUT using set first.\n",
    "\n",
    "Then, try using a set for comparison!"
   ]
  },
  {
   "cell_type": "code",
   "execution_count": 14,
   "id": "f20d8c02",
   "metadata": {},
   "outputs": [
    {
     "name": "stdout",
     "output_type": "stream",
     "text": [
      "3.0\n",
      "3.0\n"
     ]
    }
   ],
   "source": [
    "## array_average\n",
    "#solution1\n",
    "def array_average(input_Data):\n",
    "    sum_array = sum(input_Data)\n",
    "    array_average = sum_array/len(input_Data)\n",
    "    print(array_average)\n",
    "    ## solution 2\n",
    "    count =0\n",
    "    sum_total = 0\n",
    "    for numbers in input_Data:\n",
    "        sum_total+= numbers\n",
    "        count +=1\n",
    "    print(sum_total/count)\n",
    "\n",
    "array_average([1,2,3,4,5])\n",
    "    "
   ]
  },
  {
   "cell_type": "code",
   "execution_count": null,
   "id": "2670f180",
   "metadata": {},
   "outputs": [],
   "source": [
    "def remove_duplicate(inp_Array):\n",
    "    dedup_list = []\n",
    "    for data in inp_Array:\n",
    "        if data not in dedup_list:\n",
    "            dedup_list.append(data)\n",
    "    return(dedup_list)\n",
    "\n",
    "##solution 2 set(inp_Array) "
   ]
  },
  {
   "cell_type": "markdown",
   "id": "32557f54",
   "metadata": {},
   "source": [
    "Given a string, find the length of the longest substring that contains all unique (non-repeating) characters.\n",
    "\n",
    "Example:\n",
    "\"abcabcbb\" → 3 (because \"abc\" is the longest non-repeating set)"
   ]
  },
  {
   "cell_type": "code",
   "execution_count": 22,
   "id": "5b711e48",
   "metadata": {},
   "outputs": [],
   "source": [
    "def length_of_longest_substring(data):\n",
    "    max_longest = \"\"\n",
    "    left = 0\n",
    "    right = 0\n",
    "    while right<len(data):\n",
    "        sub_word = data[left:right+1]\n",
    "        if len(sub_word)==len(set(sub_word)):\n",
    "            right = right+1\n",
    "            if len(sub_word)> len(max_longest):\n",
    "                max_longest =sub_word\n",
    "        else:\n",
    "            left = left+1\n",
    "            right =left+1\n",
    "    return(len(max_longest))\n",
    "\n",
    "#length_of_longest_substring(\"anviaj\")\n"
   ]
  },
  {
   "cell_type": "code",
   "execution_count": 23,
   "id": "a6fd941c",
   "metadata": {},
   "outputs": [
    {
     "name": "stdout",
     "output_type": "stream",
     "text": [
      "✅ Input: 'abcabcbb' | Output: 3 | Expected: 3\n",
      "✅ Input: 'bbbbb' | Output: 1 | Expected: 1\n",
      "✅ Input: 'pwwkew' | Output: 3 | Expected: 3\n",
      "✅ Input: '' | Output: 0 | Expected: 0\n",
      "✅ Input: 'au' | Output: 2 | Expected: 2\n",
      "✅ Input: 'dvdf' | Output: 3 | Expected: 3\n",
      "✅ Input: 'anviaj' | Output: 5 | Expected: 5\n"
     ]
    }
   ],
   "source": [
    "if __name__ == \"__main__\":\n",
    "    test_cases = [\n",
    "        (\"abcabcbb\", 3),\n",
    "        (\"bbbbb\", 1),\n",
    "        (\"pwwkew\", 3),\n",
    "        (\"\", 0),\n",
    "        (\"au\", 2),\n",
    "        (\"dvdf\", 3),\n",
    "        (\"anviaj\", 5)\n",
    "    ]\n",
    "    \n",
    "    for s, expected in test_cases:\n",
    "        result = length_of_longest_substring(s)\n",
    "        status = \"✅\" if result == expected else \"❌\"\n",
    "        print(f\"{status} Input: '{s}' | Output: {result} | Expected: {expected}\")"
   ]
  },
  {
   "cell_type": "code",
   "execution_count": null,
   "id": "448ab705",
   "metadata": {},
   "outputs": [],
   "source": []
  }
 ],
 "metadata": {
  "kernelspec": {
   "display_name": "Python 3",
   "language": "python",
   "name": "python3"
  },
  "language_info": {
   "codemirror_mode": {
    "name": "ipython",
    "version": 3
   },
   "file_extension": ".py",
   "mimetype": "text/x-python",
   "name": "python",
   "nbconvert_exporter": "python",
   "pygments_lexer": "ipython3",
   "version": "3.12.1"
  }
 },
 "nbformat": 4,
 "nbformat_minor": 5
}
