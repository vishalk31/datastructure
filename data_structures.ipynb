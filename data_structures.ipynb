{
 "cells": [
  {
   "cell_type": "markdown",
   "id": "62a271c0",
   "metadata": {},
   "source": [
    "#Problem 1: Two Sum"
   ]
  },
  {
   "cell_type": "code",
   "execution_count": 24,
   "id": "54401e33",
   "metadata": {},
   "outputs": [
    {
     "name": "stdout",
     "output_type": "stream",
     "text": [
      "Input: nums = [2, 7, 11, 15], target = 9\n",
      "Output: (0, 1)\n",
      "Input: nums = [3, 2, 4], target = 6\n",
      "Output: (1, 2)\n",
      "Input: nums = [3, 3], target = 6\n",
      "Output: (0, 1)\n"
     ]
    }
   ],
   "source": [
    "def two_sum(nums, target):\n",
    "    \"\"\"\n",
    "    Given an array of integers nums and an integer target, \n",
    "    return indices of the two numbers such that they add up to target.\n",
    "    \n",
    "    Args:\n",
    "        nums: List[int] - array of integers\n",
    "        target: int - target sum\n",
    "    \n",
    "    Returns:\n",
    "        List[int] - indices of the two numbers\n",
    "    \n",
    "    Example:\n",
    "        Input: nums = [2,7,11,15], target = 9\n",
    "        Output: [0,1]\n",
    "    \"\"\"\n",
    "    # Your solution here\n",
    "    intermediate_value = float(\"inf\")\n",
    "\n",
    "    for index, value in enumerate(nums):\n",
    "        sub_nums = nums[:]\n",
    "        sub_nums[index]=intermediate_value\n",
    "        difference_value = abs(value-target)\n",
    "        if difference_value in  sub_nums:\n",
    "            return(index,sub_nums.index(difference_value))\n",
    "    \n",
    "    return None\n",
    "\n",
    "# Test cases\n",
    "if __name__ == \"__main__\":\n",
    "    # Test case 1\n",
    "    nums1 = [2, 7, 11, 15]\n",
    "    target1 = 9\n",
    "    print(f\"Input: nums = {nums1}, target = {target1}\")\n",
    "    print(f\"Output: {two_sum(nums1, target1)}\")\n",
    "    \n",
    "    # Test case 2\n",
    "    nums2 = [3, 2, 4]\n",
    "    target2 = 6\n",
    "    print(f\"Input: nums = {nums2}, target = {target2}\")\n",
    "    print(f\"Output: {two_sum(nums2, target2)}\")\n",
    "    \n",
    "    # Test case 3\n",
    "    nums3 = [3, 3]\n",
    "    target3 = 6\n",
    "    print(f\"Input: nums = {nums3}, target = {target3}\")\n",
    "    print(f\"Output: {two_sum(nums3, target3)}\")"
   ]
  },
  {
   "cell_type": "markdown",
   "id": "445e3839",
   "metadata": {},
   "source": [
    "Problem: First Non-Repeating Character\n",
    "Given a string, find the first non-repeating character and return its index. If it doesn't exist, return -1.\n"
   ]
  },
  {
   "cell_type": "code",
   "execution_count": 25,
   "id": "413c9fcb",
   "metadata": {},
   "outputs": [
    {
     "name": "stdout",
     "output_type": "stream",
     "text": [
      "Input: 'leetcode' -> Output: 0\n",
      "Input: 'loveleetcode' -> Output: 2\n",
      "Input: 'aabb' -> Output: -1\n",
      "Input: 'abccba' -> Output: -1\n",
      "Input: 'abcabc' -> Output: -1\n",
      "Input: 'a' -> Output: 0\n"
     ]
    }
   ],
   "source": [
    "def first_unique_char(s):\n",
    "    \"\"\"\n",
    "    Find the first non-repeating character in a string.\n",
    "    \n",
    "    Args:\n",
    "        s: str - input string\n",
    "    \n",
    "    Returns:\n",
    "        int - index of first unique character, -1 if none exists\n",
    "    \n",
    "    Example:\n",
    "        Input: s = \"leetcode\"\n",
    "        Output: 0 (first 'l' appears only once)\n",
    "        \n",
    "        Input: s = \"loveleetcode\" \n",
    "        Output: 2 (first 'v' appears only once)\n",
    "    \"\"\"\n",
    "    # Your hash map solution here\n",
    "    # More Pythonic way to initialize:\n",
    "    key_dict = {}\n",
    "    for char in s:\n",
    "        key_dict[char] = key_dict.get(char, 0) + 1\n",
    "    for i,values in enumerate(s):\n",
    "        if key_dict[values] ==1:\n",
    "            return(i)\n",
    "    return(-1)\n",
    "\n",
    "\n",
    "\n",
    "\n",
    "# Test cases\n",
    "if __name__ == \"__main__\":\n",
    "    test_cases = [\n",
    "        \"leetcode\",      # Expected: 0\n",
    "        \"loveleetcode\",  # Expected: 2\n",
    "        \"aabb\",          # Expected: -1\n",
    "        \"abccba\",        # Expected: -1\n",
    "        \"abcabc\",        # Expected: -1\n",
    "        \"a\",             # Expected: 0\n",
    "    ]\n",
    "    \n",
    "    for test in test_cases:\n",
    "        result = first_unique_char(test)\n",
    "        print(f\"Input: '{test}' -> Output: {result}\")"
   ]
  },
  {
   "cell_type": "markdown",
   "id": "c14ee3bd",
   "metadata": {},
   "source": [
    "Problem 1: Count Nodes in Linked List\n",
    "Difficulty: Easy\n",
    "Tags: Linked List, Traversal\n",
    "Companies: Google, Amazon, Microsoft\n",
    "Problem Statement:\n",
    "Given the head of a singly linked list, return the number of nodes in the list.\n",
    "Function Signature:"
   ]
  },
  {
   "cell_type": "code",
   "execution_count": 26,
   "id": "253d4a46",
   "metadata": {},
   "outputs": [],
   "source": [
    "def count_nodes(head):\n",
    "    # Step 1: Empty list case\n",
    "    if head is None:\n",
    "        return 0\n",
    "    \n",
    "    # Step 2: Start at the beginning\n",
    "    current = head\n",
    "    count = 0\n",
    "    \n",
    "    # Step 3: Visit each node\n",
    "    while current is not None:\n",
    "        count = count + 1      # Count this node\n",
    "        current = current.next # Move to next node\n",
    "    \n",
    "    return count"
   ]
  },
  {
   "cell_type": "markdown",
   "id": "308ff81f",
   "metadata": {},
   "source": [
    "## Find middle node two pass"
   ]
  },
  {
   "cell_type": "code",
   "execution_count": 31,
   "id": "3cbb36bc",
   "metadata": {},
   "outputs": [],
   "source": [
    "def find_middle_node_two_pass(head):\n",
    "    \"\"\"Two-pass approach to find middle node\"\"\"\n",
    "    \n",
    "    # Step 1: Handle edge case\n",
    "    if head is None:\n",
    "        return None\n",
    "    \n",
    "    # Step 2: Count total nodes (you've done this before!)\n",
    "    # Your code here - count the nodes\n",
    "    current = head\n",
    "    count = 0\n",
    "    \n",
    "    # Step 3: Visit each node\n",
    "    while current is not None:\n",
    "        count = count + 1      # Count this node\n",
    "        current = current.next # Move to next node\n",
    "    \n",
    "    # Step 3: Calculate middle position\n",
    "    # Your code here - what's the middle position?\n",
    "    middle = count//2\n",
    "    \n",
    "    # Step 4: Go to middle position\n",
    "    # Your code here - traverse to that position\n",
    "    current = head\n",
    "    count = 0\n",
    "    \n",
    "    # Step 3: Visit each node\n",
    "    current = head\n",
    "    for i in range(middle):  # Move middle steps from head\n",
    "        current = current.next\n",
    "    return current\n",
    "\n",
    "    "
   ]
  },
  {
   "cell_type": "code",
   "execution_count": null,
   "id": "d08e63d6",
   "metadata": {},
   "outputs": [],
   "source": []
  }
 ],
 "metadata": {
  "kernelspec": {
   "display_name": "Python 3",
   "language": "python",
   "name": "python3"
  },
  "language_info": {
   "codemirror_mode": {
    "name": "ipython",
    "version": 3
   },
   "file_extension": ".py",
   "mimetype": "text/x-python",
   "name": "python",
   "nbconvert_exporter": "python",
   "pygments_lexer": "ipython3",
   "version": "3.12.1"
  }
 },
 "nbformat": 4,
 "nbformat_minor": 5
}
