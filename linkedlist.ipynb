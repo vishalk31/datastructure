{
 "cells": [
  {
   "cell_type": "markdown",
   "id": "bf8fecd7",
   "metadata": {},
   "source": [
    "2: Two-Pointer Method (Tortoise and Hare)\n",
    "The concept:\n",
    "\n",
    "Slow pointer (tortoise): moves 1 step at a time\n",
    "Fast pointer (hare): moves 2 steps at a time\n",
    "When fast reaches the end, slow is at the middle!"
   ]
  },
  {
   "cell_type": "code",
   "execution_count": null,
   "id": "8c1eda8e",
   "metadata": {},
   "outputs": [],
   "source": [
    "def find_middle_node_one_pass(head):\n",
    "    \"\"\"One-pass approach using two pointers\"\"\"\n",
    "    \n",
    "    # Step 1: Handle edge case\n",
    "    if head is None:\n",
    "        return None\n",
    "    \n",
    "    # Step 2: Initialize both pointers\n",
    "    # Your code here - where do both pointers start?\n",
    "    slow = head\n",
    "    fast = head\n",
    "\n",
    "    if slow.next is not None and fast.next is not None:\n",
    "        slow = slow.next\n",
    "        fast = fast.next.next\n",
    "    return(slow)\n"
   ]
  },
  {
   "cell_type": "markdown",
   "id": "cb768b94",
   "metadata": {},
   "source": [
    "Problem 3: Reverse Linked List\n",
    "Difficulty: Medium\n",
    "Tags: Linked List, Pointers, Iterative\n",
    "Companies: Google, Facebook, Amazon, Microsoft, Apple\n",
    "Problem Statement:\n",
    "Given the head of a singly linked list, reverse the list and return its new head.\n",
    "Function Signature:"
   ]
  },
  {
   "cell_type": "code",
   "execution_count": 1,
   "id": "75515e50",
   "metadata": {},
   "outputs": [],
   "source": [
    "class ListNode:\n",
    "    def __init__(self, val=0, next=None):\n",
    "        self.val = val\n",
    "        self.next = next\n",
    "\n",
    "def reverse_linked_list(head):\n",
    "    \"\"\"\n",
    "    Reverse a singly linked list.\n",
    "    \n",
    "    Args:\n",
    "        head: ListNode - head of the original list\n",
    "        \n",
    "    Returns:\n",
    "        ListNode - head of the reversed list\n",
    "    \n",
    "    Time Complexity: O(n)\n",
    "    Space Complexity: O(1)\n",
    "    \n",
    "    Example:\n",
    "        Input:  1 -> 2 -> 3 -> 4 -> 5 -> None\n",
    "        Output: 5 -> 4 -> 3 -> 2 -> 1 -> None\n",
    "    \"\"\"\n",
    "    # Your solution here\n",
    "    previous = None\n",
    "    curr = head\n",
    "    while curr is not None:\n",
    "    # Save, Reverse, Move\n",
    "        next = curr.next\n",
    "        curr.next = previous\n",
    "        prev = curr\n",
    "        curr = next\n",
    "    return prev"
   ]
  },
  {
   "cell_type": "code",
   "execution_count": null,
   "id": "e9919e60",
   "metadata": {},
   "outputs": [],
   "source": []
  }
 ],
 "metadata": {
  "kernelspec": {
   "display_name": "Python 3",
   "language": "python",
   "name": "python3"
  },
  "language_info": {
   "codemirror_mode": {
    "name": "ipython",
    "version": 3
   },
   "file_extension": ".py",
   "mimetype": "text/x-python",
   "name": "python",
   "nbconvert_exporter": "python",
   "pygments_lexer": "ipython3",
   "version": "3.12.1"
  }
 },
 "nbformat": 4,
 "nbformat_minor": 5
}
